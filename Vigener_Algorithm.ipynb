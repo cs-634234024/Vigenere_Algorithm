{
  "nbformat": 4,
  "nbformat_minor": 0,
  "metadata": {
    "colab": {
      "provenance": [],
      "authorship_tag": "ABX9TyPyL8wJztLq1xP2yK252MGy",
      "include_colab_link": true
    },
    "kernelspec": {
      "name": "python3",
      "display_name": "Python 3"
    },
    "language_info": {
      "name": "python"
    }
  },
  "cells": [
    {
      "cell_type": "markdown",
      "metadata": {
        "id": "view-in-github",
        "colab_type": "text"
      },
      "source": [
        "<a href=\"https://colab.research.google.com/github/cs-634234024/Vigenere_Algorithm/blob/main/Vigener_Algorithm.ipynb\" target=\"_parent\"><img src=\"https://colab.research.google.com/assets/colab-badge.svg\" alt=\"Open In Colab\"/></a>"
      ]
    },
    {
      "cell_type": "code",
      "source": [
        "def encrytp(plaintext , password , vigener_table):\n",
        "\n",
        "  p =[]\n",
        "  k = []\n",
        "  sum = []\n",
        "  c = \"\"\n",
        "\n",
        "  # เก็บค่า  len  ของ plaintext ไว้ใน ตัวเเปร P\n",
        "  for i in plaintext :\n",
        "    for j in range(len(vigener_table)) :\n",
        "      if(i == vigener_table[j]) :\n",
        "        p.append(j)\n",
        "\n",
        "  # เรียง password ให้เท่ากับ plaintext\n",
        "  i = 0\n",
        "  lenght_password = len(password)\n",
        "  while(lenght_password < len(plaintext)) :\n",
        "    password += password[i]\n",
        "    lenght_password += 1\n",
        "    i+=1\n",
        "\n",
        "  # เก็บค่า  len ของ keyword ไว้ใน ตัวเเปร P\n",
        "  for i in password :\n",
        "    for j in range(len(vigener_table)) :\n",
        "      if(i == vigener_table[j]) :\n",
        "        k.append(j)\n",
        "\n",
        "  # ผลรวม ของ p เเละ k\n",
        "  for n in range(len(p)) :\n",
        "    sum.append(p[n]+k[n])\n",
        "\n",
        "  # เช็คเงื่อนไข ถ้า ผลรวมมากกว่า 26 ให้ลบกับ 26\n",
        "  for i in range(len(sum)):\n",
        "    if sum[i] >= 26 :\n",
        "      sum[i] = sum[i] - 26\n",
        "\n",
        "  # เเปลง เป็น Cypher text\n",
        "  for r in sum  :\n",
        "   c+=vigener_table[r]\n",
        "\n",
        "  # Debug\n",
        "  # print(\"\\n Encrypt \\n\")\n",
        "  # print(\"plaintext \",len(p),\" : \",p)\n",
        "  # print(\"password \",len(k),\" : \",k)\n",
        "  # print(\"sum \",len(sum),\" : \",sum)\n",
        "\n",
        "  return c\n",
        "\n"
      ],
      "metadata": {
        "id": "ANm5EAvu7s0m"
      },
      "execution_count": null,
      "outputs": []
    },
    {
      "cell_type": "code",
      "source": [
        "def decrytp (cipher_text , keyword , vigener_table) :\n",
        "\n",
        "  p =[]\n",
        "  k = []\n",
        "  sum = []\n",
        "  c = \"\"\n",
        "\n",
        "  for i in cipher_text :\n",
        "    for j in range(len(vigener_table)) :\n",
        "      if(i == vigener_table[j]) :\n",
        "        p.append(j)\n",
        "\n",
        "  i = 0\n",
        "  lenght_password = len(keyword)\n",
        "\n",
        "  while(lenght_password < len(cipher_text)) :\n",
        "    keyword += keyword[i]\n",
        "    lenght_password += 1\n",
        "    i+=1\n",
        "\n",
        "  for i in keyword :\n",
        "    for j in range(len(vigener_table)) :\n",
        "      if(i == vigener_table[j]) :\n",
        "        k.append(j)\n",
        "  # ผลรวม ของ p เเละ k\n",
        "  for n in range(len(p)) :\n",
        "    sum.append(p[n]- k[n])\n",
        "\n",
        "  for i in range(len(sum)):\n",
        "    if sum[i] < 0 :\n",
        "      sum[i] = sum[i] + 26\n",
        "\n",
        "  for r in sum  :\n",
        "   c+=vigener_table[r]\n",
        "\n",
        "\n",
        "  # print(\"\\n Decrypt \\n\")\n",
        "  # print(\"Cipher text \",len(p),\" : \",p)\n",
        "  # print(\"password \",len(k),\" : \",k)\n",
        "  # print(\"sum \",len(sum),\" : \",sum)\n",
        "  return c\n",
        "\n"
      ],
      "metadata": {
        "id": "GrUCC3ZKADXT"
      },
      "execution_count": null,
      "outputs": []
    },
    {
      "cell_type": "code",
      "source": [
        "plaintext = input(\"plaintext :\").lower()\n",
        "password = input(\"password :\").lower()\n",
        "\n",
        "# ตาราง vigener\n",
        "vigener_table = [chr(i) for i in range(ord('a'), ord('z') + 1)]\n",
        "\n",
        "cipher_text =  encrytp(plaintext , password , vigener_table)\n",
        "decode =  decrytp( cipher_text , password ,vigener_table)\n",
        "\n",
        "# print(\"\\n output \\b\")\n",
        "# print(\"cipher text : \"  ,cipher_text)\n",
        "# print(\"plain text : \"  ,decode)\n",
        "\n",
        "\n",
        "with open(\"cryto.txt\",\"w\") as file :\n",
        "  file.write(\"Encrypt \\n -  \"+cipher_text )\n",
        "  file.write(\"\\nDecrypt \\n -  \"+decode )\n",
        "\n",
        "with open (\"cryto.txt\" , 'r') as file :\n",
        "  content  = file.read()\n",
        "  print(content)\n",
        "\n"
      ],
      "metadata": {
        "colab": {
          "base_uri": "https://localhost:8080/"
        },
        "id": "6MMW5SbS5umH",
        "outputId": "56108c2d-01fb-4a83-95b4-a9f59b52ef5b"
      },
      "execution_count": null,
      "outputs": [
        {
          "output_type": "stream",
          "name": "stdout",
          "text": [
            "plaintext :harissadeen\n",
            "password :array\n",
            "Encrypt \n",
            " -  hriiqsruecn\n",
            "Decrypt \n",
            " -  harissadeen\n"
          ]
        }
      ]
    }
  ]
}